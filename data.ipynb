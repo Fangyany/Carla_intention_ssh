{
 "cells": [
  {
   "cell_type": "code",
   "execution_count": 89,
   "metadata": {},
   "outputs": [],
   "source": [
    "import pickle\n",
    "import matplotlib.pyplot as plt\n",
    "import numpy as np  \n",
    "\n",
    "data = pickle.load(open('data_and_label.pkl', \"rb\"))\n",
    "traj, label = data[0]"
   ]
  },
  {
   "cell_type": "code",
   "execution_count": 90,
   "metadata": {},
   "outputs": [
    {
     "name": "stdout",
     "output_type": "stream",
     "text": [
      "878 471 125\n"
     ]
    },
    {
     "data": {
      "image/png": "[encoded data removed]",
      "text/plain": [
       "<Figure size 640x480 with 1 Axes>"
      ]
     },
     "metadata": {},
     "output_type": "display_data"
    }
   ],
   "source": [
    "s, l, r = 0, 0, 0\n",
    "data_new = []\n",
    "for i in range(len(data)):\n",
    "    traj, label = data[i]\n",
    "    traj = np.array(traj)\n",
    "    \n",
    "    if label == 1:\n",
    "        plt.plot(traj[:, 0], traj[:, 1], 'r')\n",
    "        s += 1\n",
    "        if s <= 200:\n",
    "            data_new.append(data[i])\n",
    "    elif label == 0:\n",
    "        plt.plot(traj[:, 0], traj[:, 1], 'g')\n",
    "        l += 1\n",
    "        if l <= 200:\n",
    "            data_new.append(data[i])\n",
    "    elif label == 2:\n",
    "        plt.plot(traj[:, 0], traj[:, 1], 'b')\n",
    "        r += 1\n",
    "        if r <= 125:\n",
    "            data_new.append(data[i])\n",
    "    else:\n",
    "        print('error')\n",
    "print(s, l, r)\n",
    "\n",
    "plt.axis('equal')\n",
    "\n",
    "pickle.dump(data_new, open('data_and_label_new.pkl', \"wb\"))"
   ]
  },
  {
   "cell_type": "code",
   "execution_count": 83,
   "metadata": {},
   "outputs": [],
   "source": [
    "data = pickle.load(open('test_data.pkl', \"rb\"))\n",
    "traj, label = data[0]"
   ]
  },
  {
   "cell_type": "code",
   "execution_count": 84,
   "metadata": {},
   "outputs": [
    {
     "data": {
      "text/plain": [
       "105"
      ]
     },
     "execution_count": 84,
     "metadata": {},
     "output_type": "execute_result"
    }
   ],
   "source": [
    "len(data)"
   ]
  },
  {
   "cell_type": "code",
   "execution_count": 85,
   "metadata": {},
   "outputs": [],
   "source": [
    "import torch\n",
    "\n",
    "a, b, c = 0, 0, 0\n",
    "for i in range(len(data)):\n",
    "    traj, label = data[i]\n",
    "    if torch.all(label == torch.tensor([1, 0, 0])):\n",
    "        a += 1\n",
    "    elif torch.all(label == torch.tensor([0, 1, 0])):\n",
    "        b += 1\n",
    "    elif torch.all(label == torch.tensor([0, 0, 1])):\n",
    "        c += 1\n",
    "        \n",
    "print(a, b, c)"
   ]
  },
  {
   "cell_type": "code",
   "execution_count": 4,
   "metadata": {},
   "outputs": [
    {
     "data": {
      "text/plain": [
       "(20, 3)"
      ]
     },
     "execution_count": 4,
     "metadata": {},
     "output_type": "execute_result"
    }
   ],
   "source": [
    "import numpy as np  \n",
    "np.array(traj).shape"
   ]
  },
  {
   "cell_type": "code",
   "execution_count": 11,
   "metadata": {},
   "outputs": [
    {
     "data": {
      "text/plain": [
       "tensor([1, 0, 0])"
      ]
     },
     "execution_count": 11,
     "metadata": {},
     "output_type": "execute_result"
    }
   ],
   "source": [
    "label"
   ]
  },
  {
   "cell_type": "code",
   "execution_count": 51,
   "metadata": {},
   "outputs": [],
   "source": [
    "import pickle\n",
    "import numpy as np\n",
    "import pandas as pd\n",
    "from sklearn.model_selection import train_test_split\n",
    "import torch\n",
    "import torch.nn as nn\n",
    "from torch.utils.data import Dataset, DataLoader\n",
    "import torch.optim as optim\n",
    "import torch.nn.functional as F\n",
    "\n",
    "torch.cuda.set_device(0)\n",
    "\n",
    "device = 'cuda'\n",
    "batch_size = 32\n",
    "num_epochs = 600\n",
    "\n",
    "\n",
    "class CarlaDataset(Dataset):\n",
    "    def __init__(self):\n",
    "        self.data = pickle.load(open('data_and_label.pkl', \"rb\"))\n",
    "\n",
    "    def __len__(self):\n",
    "        return len(self.data)\n",
    "    \n",
    "    def __getitem__(self, index):\n",
    "        traj, label = self.data[index]\n",
    "        traj = torch.tensor(np.array(traj))   # shape=(20,3)\n",
    "        if label == 0:\n",
    "            label = [1, 0, 0]\n",
    "        elif label == 1:\n",
    "            label = [0, 1, 0]\n",
    "        else:\n",
    "            label = [0, 0, 1]\n",
    "        label = torch.tensor(label)\n",
    "        return traj, label\n",
    "\n",
    "dataset = CarlaDataset()\n",
    "\n",
    "# 划分数据集\n",
    "train_data, test_data = train_test_split(dataset, test_size=0.1, random_state=5) \n",
    "train_dataloader = DataLoader(train_data, batch_size=batch_size, shuffle=True)\n",
    "\n",
    "\n"
   ]
  },
  {
   "cell_type": "code",
   "execution_count": 68,
   "metadata": {},
   "outputs": [],
   "source": [
    "class Net(nn.Module):\n",
    "    def __init__(self):\n",
    "        super(Net, self).__init__()\n",
    "        self.lstm = nn.LSTM(input_size=1, hidden_size=64, num_layers=2, batch_first=True)\n",
    "        self.fc1 = nn.Linear(64, 64)\n",
    "        self.fc2 = nn.Linear(128, 64)\n",
    "        self.fc3 = nn.Linear(64, 3)\n",
    "        self.fc4 = nn.Linear(3, 64)\n",
    "        \n",
    "        self.relu = nn.ReLU()\n",
    "\n",
    "    def forward(self, x):\n",
    "        # x shape: (batch_size, sequence_length, input_size)\n",
    "        ctr = x[:, -1]\n",
    "        ctr_feature = self.fc4(ctr)\n",
    "        \n",
    "        x = x.view(-1, 60)\n",
    "        batch_size = x.size(0)\n",
    "        sequence_length = x.size(1)\n",
    "        x = x.view(batch_size, sequence_length, 1)\n",
    "        \n",
    "        # Apply LSTM\n",
    "        h0 = torch.zeros(2, batch_size, 64).to(x.device)  # Initial hidden state\n",
    "        c0 = torch.zeros(2, batch_size, 64).to(x.device)  # Initial cell state\n",
    "        lstm_out, _ = self.lstm(x, (h0, c0))\n",
    "        \n",
    "        # Reshape and pass through linear layers\n",
    "        lstm_out = lstm_out[:, -1, :]  # Take the last time step output\n",
    "        x = self.relu(lstm_out)\n",
    "        x = self.fc1(x)\n",
    "        result_tensor = torch.cat((x, ctr_feature), dim=1)\n",
    "\n",
    "        x = self.relu(result_tensor)\n",
    "        x = self.fc2(x)\n",
    "        x = self.relu(x)\n",
    "        x = self.fc3(x)\n",
    "        \n",
    "        x = F.softmax(x, dim=1)\n",
    "        \n",
    "        return x\n",
    "\n",
    "model = Net().to(device)"
   ]
  },
  {
   "cell_type": "code",
   "execution_count": 69,
   "metadata": {},
   "outputs": [],
   "source": [
    "# 定义损失函数和优化器\n",
    "loss_fn = nn.CrossEntropyLoss()\n",
    "optimizer = optim.Adam(model.parameters(), lr=0.0001)\n",
    "\n",
    "log_file = open(\"log.txt\", \"w\")\n",
    "# 训练模型\n",
    "for epoch in range(num_epochs):\n",
    "    for trajs, labels in train_dataloader:\n",
    "        trajs = trajs.to(device).float()\n",
    "        labels = labels.to(device).float()\n",
    "        model.train()\n",
    "        outputs = model(trajs).squeeze()\n",
    "        break\n",
    "    break"
   ]
  },
  {
   "cell_type": "code",
   "execution_count": 93,
   "metadata": {},
   "outputs": [
    {
     "name": "stdout",
     "output_type": "stream",
     "text": [
      "0.37142857142857144\n"
     ]
    }
   ],
   "source": [
    "test_data = pickle.load(open('test_data.pkl', \"rb\"))\n",
    "test_dataloader = DataLoader(test_data, batch_size=batch_size, shuffle=True)\n",
    "\n",
    "size = len(test_dataloader.dataset)\n",
    "num_batches = len(test_dataloader)\n",
    "model.eval().to(device)\n",
    "test_loss, correct = 0, 0\n",
    "with torch.no_grad():\n",
    "    for trajs, labels in test_dataloader:\n",
    "        trajs, labels = trajs.to(device).float(), labels.to(device).float()\n",
    "        pred = model(trajs)\n",
    "\n",
    "        test_loss += loss_fn(pred, labels)\n",
    "        _, predicted_labels = torch.max(pred, dim=1)\n",
    "        _, labels = torch.max(labels, dim=1)\n",
    "\n",
    "        correct += (predicted_labels == labels).sum().item()\n",
    "print(correct/len(test_dataloader.dataset))"
   ]
  },
  {
   "cell_type": "code",
   "execution_count": 94,
   "metadata": {},
   "outputs": [
    {
     "name": "stdout",
     "output_type": "stream",
     "text": [
      "tensor([1, 1, 1, 1, 1, 1, 1, 1, 1], device='cuda:0')\n",
      "tensor([0, 0, 2, 2, 1, 1, 0, 0, 2], device='cuda:0')\n"
     ]
    }
   ],
   "source": [
    "predicted_classes = torch.argmax(pred, dim=1)\n",
    "print(predicted_classes)\n",
    "print(labels)"
   ]
  }
 ],
 "metadata": {
  "kernelspec": {
   "display_name": "prediction",
   "language": "python",
   "name": "python3"
  },
  "language_info": {
   "codemirror_mode": {
    "name": "ipython",
    "version": 3
   },
   "file_extension": ".py",
   "mimetype": "text/x-python",
   "name": "python",
   "nbconvert_exporter": "python",
   "pygments_lexer": "ipython3",
   "version": "3.9.0"
  }
 },
 "nbformat": 4,
 "nbformat_minor": 2
}
