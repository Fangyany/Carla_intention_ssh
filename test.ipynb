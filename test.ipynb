{
 "cells": [
  {
   "cell_type": "code",
   "execution_count": 2,
   "metadata": {},
   "outputs": [],
   "source": [
    "import pickle\n",
    "import numpy as np\n",
    "import pandas as pd\n",
    "from sklearn.model_selection import train_test_split\n",
    "import torch\n",
    "import torch.nn as nn\n",
    "from torch.utils.data import Dataset, DataLoader\n",
    "import torch.optim as optim\n",
    "import torch.nn.functional as F\n",
    "import matplotlib.pyplot as plt\n",
    "\n",
    "\n",
    "class Net(nn.Module):\n",
    "    def __init__(self):\n",
    "        super(Net, self).__init__()\n",
    "        self.lstm = nn.LSTM(input_size=1, hidden_size=64, num_layers=2, batch_first=True)\n",
    "        self.fc1 = nn.Linear(64, 64)\n",
    "        self.fc2 = nn.Linear(128, 64)\n",
    "        self.fc3 = nn.Linear(64, 3)\n",
    "        self.fc4 = nn.Linear(3, 64)\n",
    "        \n",
    "        self.relu = nn.ReLU()\n",
    "\n",
    "    def forward(self, x):\n",
    "        # x shape: (batch_size, sequence_length, input_size)\n",
    "        ctr = x[:, -1]\n",
    "        ctr_feature = self.fc4(ctr)\n",
    "        \n",
    "        x = x.view(-1, 60)\n",
    "        batch_size = x.size(0)\n",
    "        sequence_length = x.size(1)\n",
    "        x = x.view(batch_size, sequence_length, 1)\n",
    "        \n",
    "        # Apply LSTM\n",
    "        h0 = torch.zeros(2, batch_size, 64).to(x.device)  # Initial hidden state\n",
    "        c0 = torch.zeros(2, batch_size, 64).to(x.device)  # Initial cell state\n",
    "        lstm_out, _ = self.lstm(x, (h0, c0))\n",
    "        \n",
    "        # Reshape and pass through linear layers\n",
    "        lstm_out = lstm_out[:, -1, :]  # Take the last time step output\n",
    "        x = self.relu(lstm_out)\n",
    "        x = self.fc1(x)\n",
    "        result_tensor = torch.cat((x, ctr_feature), dim=1)\n",
    "\n",
    "        x = self.relu(result_tensor)\n",
    "        x = self.fc2(x)\n",
    "        x = self.relu(x)\n",
    "        x = self.fc3(x)\n",
    "        \n",
    "        x = F.softmax(x, dim=1)\n",
    "        \n",
    "        return x\n",
    "\n",
    "model = Net()"
   ]
  },
  {
   "cell_type": "code",
   "execution_count": 6,
   "metadata": {},
   "outputs": [
    {
     "data": {
      "text/plain": [
       "Net(\n",
       "  (lstm): LSTM(1, 64, num_layers=2, batch_first=True)\n",
       "  (fc1): Linear(in_features=64, out_features=64, bias=True)\n",
       "  (fc2): Linear(in_features=128, out_features=64, bias=True)\n",
       "  (fc3): Linear(in_features=64, out_features=3, bias=True)\n",
       "  (fc4): Linear(in_features=3, out_features=64, bias=True)\n",
       "  (relu): ReLU()\n",
       ")"
      ]
     },
     "execution_count": 6,
     "metadata": {},
     "output_type": "execute_result"
    }
   ],
   "source": [
    "# 预训练\n",
    "pretrained_weights_path = 'model_weights.pth'\n",
    "pretrained_weights = torch.load(pretrained_weights_path)\n",
    "model.load_state_dict(pretrained_weights)\n",
    "model.eval().cuda()"
   ]
  },
  {
   "cell_type": "code",
   "execution_count": 11,
   "metadata": {},
   "outputs": [
    {
     "name": "stdout",
     "output_type": "stream",
     "text": [
      "105\n",
      "0.9523809523809523\n"
     ]
    }
   ],
   "source": [
    "test_data = pickle.load(open('test_data.pkl', \"rb\"))\n",
    "test_dataloader = DataLoader(test_data, batch_size=32, shuffle=True)\n",
    "\n",
    "print(len(test_dataloader.dataset))\n",
    "\n",
    "device = 'cuda'\n",
    "loss_fn = nn.CrossEntropyLoss()\n",
    "test_loss, correct = 0, 0\n",
    "\n",
    "\n",
    "real_label, pred_label = [], []\n",
    "with torch.no_grad():\n",
    "    for trajs, labels in test_dataloader:\n",
    "        trajs, labels = trajs.to(device).float(), labels.to(device).float()\n",
    "        pred = model(trajs)\n",
    "\n",
    "        test_loss += loss_fn(pred, labels)\n",
    "        _, predicted_labels = torch.max(pred, dim=1)\n",
    "        _, labels = torch.max(labels, dim=1)\n",
    "        \n",
    "        real_label.extend(labels.tolist())\n",
    "        pred_label.extend(predicted_labels.tolist())\n",
    "\n",
    "        correct += (predicted_labels == labels).sum().item()\n",
    "print(correct/len(test_dataloader.dataset))"
   ]
  },
  {
   "cell_type": "code",
   "execution_count": 12,
   "metadata": {},
   "outputs": [
    {
     "name": "stdout",
     "output_type": "stream",
     "text": [
      "[0, 0, 0, 2, 2, 2, 1, 1, 0, 1, 1, 0, 2, 0, 0, 1, 2, 1, 2, 0, 2, 1, 0, 0, 0, 0, 2, 0, 0, 2, 2, 2, 0, 1, 0, 0, 1, 2, 1, 0, 0, 1, 1, 0, 0, 2, 1, 0, 2, 2, 0, 1, 1, 0, 1, 2, 0, 0, 1, 1, 1, 1, 2, 2, 2, 2, 1, 1, 1, 1, 2, 1, 2, 0, 1, 0, 0, 1, 1, 2, 0, 0, 1, 0, 1, 0, 0, 2, 2, 0, 1, 1, 0, 0, 1, 1, 1, 0, 1, 0, 0, 1, 0, 1, 1]\n",
      "[0, 0, 0, 2, 2, 2, 0, 1, 0, 1, 1, 0, 2, 0, 0, 0, 2, 1, 2, 0, 2, 1, 0, 0, 0, 0, 2, 0, 0, 2, 2, 2, 0, 1, 0, 0, 1, 2, 1, 0, 0, 1, 1, 0, 0, 2, 1, 0, 2, 2, 0, 1, 1, 0, 1, 2, 0, 0, 1, 1, 1, 1, 2, 2, 2, 2, 1, 1, 1, 1, 2, 0, 2, 0, 1, 0, 0, 1, 1, 2, 0, 0, 1, 0, 1, 0, 0, 2, 2, 0, 1, 1, 0, 0, 1, 1, 0, 0, 1, 0, 0, 1, 0, 0, 1]\n"
     ]
    }
   ],
   "source": [
    "print(real_label)\n",
    "print(pred_label)"
   ]
  }
 ],
 "metadata": {
  "kernelspec": {
   "display_name": "prediction",
   "language": "python",
   "name": "python3"
  },
  "language_info": {
   "codemirror_mode": {
    "name": "ipython",
    "version": 3
   },
   "file_extension": ".py",
   "mimetype": "text/x-python",
   "name": "python",
   "nbconvert_exporter": "python",
   "pygments_lexer": "ipython3",
   "version": "3.9.0"
  }
 },
 "nbformat": 4,
 "nbformat_minor": 2
}
